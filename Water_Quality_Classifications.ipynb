{
  "nbformat": 4,
  "nbformat_minor": 0,
  "metadata": {
    "colab": {
      "provenance": [],
      "authorship_tag": "ABX9TyPy23h7//7hOwFCeLnUYAan",
      "include_colab_link": true
    },
    "kernelspec": {
      "name": "python3",
      "display_name": "Python 3"
    },
    "language_info": {
      "name": "python"
    }
  },
  "cells": [
    {
      "cell_type": "markdown",
      "metadata": {
        "id": "view-in-github",
        "colab_type": "text"
      },
      "source": [
        "<a href=\"https://colab.research.google.com/github/akashpsudhakar/Water-Safety-Classifications/blob/main/Water_Quality_Classifications.ipynb\" target=\"_parent\"><img src=\"https://colab.research.google.com/assets/colab-badge.svg\" alt=\"Open In Colab\"/></a>"
      ]
    },
    {
      "source": [
        "# Task\n",
        "Tell me about this dataset.\n",
        "\n",
        "Here is all the data you need:\n",
        "\"waterQuality1 (1) (1).csv\""
      ],
      "cell_type": "markdown",
      "metadata": {
        "id": "oHbTy5Dv6D9W"
      }
    },
    {
      "source": [
        "## Data loading\n",
        "\n",
        "### Subtask:\n",
        "Load the water quality dataset.\n"
      ],
      "cell_type": "markdown",
      "metadata": {
        "id": "YilsNKLe6Eyu"
      }
    },
    {
      "source": [
        "**Reasoning**:\n",
        "Load the dataset and display its basic information.\n",
        "\n"
      ],
      "cell_type": "markdown",
      "metadata": {
        "id": "VOKb4WpX6FCq"
      }
    },
    {
      "source": [
        "import pandas as pd\n",
        "\n",
        "try:\n",
        "    df = pd.read_csv('waterQuality1 (1) (1).csv', encoding='latin-1')\n",
        "    display(df.head())\n",
        "    print(df.shape)\n",
        "except FileNotFoundError:\n",
        "    print(\"Error: 'waterQuality1 (1) (1).csv' not found.\")\n",
        "except pd.errors.ParserError:\n",
        "    print(\"Error: Could not parse the CSV file. Please check the file format.\")\n",
        "except Exception as e:\n",
        "    print(f\"An unexpected error occurred: {e}\")"
      ],
      "cell_type": "code",
      "metadata": {
        "colab": {
          "base_uri": "https://localhost:8080/"
        },
        "id": "hjybvr5L6FSj",
        "outputId": "1bbf773b-702f-438b-bfc4-63d90a3619c4"
      },
      "execution_count": null,
      "outputs": [
        {
          "output_type": "stream",
          "name": "stdout",
          "text": [
            "Error: 'waterQuality1 (1) (1).csv' not found.\n"
          ]
        }
      ]
    },
    {
      "source": [
        "## Data exploration\n",
        "\n",
        "### Subtask:\n",
        "Explore the water quality dataset to understand its characteristics.\n"
      ],
      "cell_type": "markdown",
      "metadata": {
        "id": "GSJcLBha6IYF"
      }
    },
    {
      "source": [
        "**Reasoning**:\n",
        "I need to examine the data types, missing values, and generate descriptive statistics.  I will also determine the shape of the DataFrame and analyze the distribution of key numerical features.\n",
        "\n"
      ],
      "cell_type": "markdown",
      "metadata": {
        "id": "d2frX0mt6JFS"
      }
    },
    {
      "source": [
        "# Examine Data Types and Missing Values\n",
        "print(\"Data Types:\")\n",
        "print(df.dtypes)\n",
        "missing_values = df.isnull().sum()\n",
        "print(\"\\nMissing Values:\")\n",
        "print(missing_values[missing_values > 0])\n",
        "missing_percentage = (missing_values[missing_values > 0] / len(df)) * 100\n",
        "print(\"\\nPercentage of Missing Values:\")\n",
        "print(missing_percentage)\n",
        "\n",
        "# Statistical Summary\n",
        "print(\"\\nDescriptive Statistics:\")\n",
        "print(df.describe())\n",
        "\n",
        "# Focus on 'is_safe' distribution\n",
        "print(\"\\nDistribution of 'is_safe':\")\n",
        "print(df['is_safe'].value_counts())\n",
        "\n",
        "\n",
        "# Data Shape and Distribution\n",
        "print(\"\\nData Shape:\", df.shape)\n",
        "\n",
        "# Basic distribution checks (histograms not possible without matplotlib import)\n",
        "print(\"\\nSummary Statistics (for further investigation):\")\n",
        "for col in df.select_dtypes(include=['number']):\n",
        "  if col != 'is_safe': # skip target variable\n",
        "    print(f\"\\nStatistics for {col}:\")\n",
        "    print(f\"Mean: {df[col].mean()}\")\n",
        "    print(f\"Median: {df[col].median()}\")\n",
        "    print(f\"Std Dev: {df[col].std()}\")\n",
        "    print(f\"Min: {df[col].min()}\")\n",
        "    print(f\"Max: {df[col].max()}\")\n"
      ],
      "cell_type": "code",
      "metadata": {
        "colab": {
          "base_uri": "https://localhost:8080/",
          "height": 228
        },
        "id": "RJ-KQfry6JVI",
        "outputId": "eee6013d-b985-4b20-f01c-990d1d99869b"
      },
      "execution_count": null,
      "outputs": [
        {
          "output_type": "stream",
          "name": "stdout",
          "text": [
            "Data Types:\n"
          ]
        },
        {
          "output_type": "error",
          "ename": "NameError",
          "evalue": "name 'df' is not defined",
          "traceback": [
            "\u001b[0;31m---------------------------------------------------------------------------\u001b[0m",
            "\u001b[0;31mNameError\u001b[0m                                 Traceback (most recent call last)",
            "\u001b[0;32m<ipython-input-2-c977073d7119>\u001b[0m in \u001b[0;36m<cell line: 0>\u001b[0;34m()\u001b[0m\n\u001b[1;32m      1\u001b[0m \u001b[0;31m# Examine Data Types and Missing Values\u001b[0m\u001b[0;34m\u001b[0m\u001b[0;34m\u001b[0m\u001b[0m\n\u001b[1;32m      2\u001b[0m \u001b[0mprint\u001b[0m\u001b[0;34m(\u001b[0m\u001b[0;34m\"Data Types:\"\u001b[0m\u001b[0;34m)\u001b[0m\u001b[0;34m\u001b[0m\u001b[0;34m\u001b[0m\u001b[0m\n\u001b[0;32m----> 3\u001b[0;31m \u001b[0mprint\u001b[0m\u001b[0;34m(\u001b[0m\u001b[0mdf\u001b[0m\u001b[0;34m.\u001b[0m\u001b[0mdtypes\u001b[0m\u001b[0;34m)\u001b[0m\u001b[0;34m\u001b[0m\u001b[0;34m\u001b[0m\u001b[0m\n\u001b[0m\u001b[1;32m      4\u001b[0m \u001b[0mmissing_values\u001b[0m \u001b[0;34m=\u001b[0m \u001b[0mdf\u001b[0m\u001b[0;34m.\u001b[0m\u001b[0misnull\u001b[0m\u001b[0;34m(\u001b[0m\u001b[0;34m)\u001b[0m\u001b[0;34m.\u001b[0m\u001b[0msum\u001b[0m\u001b[0;34m(\u001b[0m\u001b[0;34m)\u001b[0m\u001b[0;34m\u001b[0m\u001b[0;34m\u001b[0m\u001b[0m\n\u001b[1;32m      5\u001b[0m \u001b[0mprint\u001b[0m\u001b[0;34m(\u001b[0m\u001b[0;34m\"\\nMissing Values:\"\u001b[0m\u001b[0;34m)\u001b[0m\u001b[0;34m\u001b[0m\u001b[0;34m\u001b[0m\u001b[0m\n",
            "\u001b[0;31mNameError\u001b[0m: name 'df' is not defined"
          ]
        }
      ]
    },
    {
      "source": [
        "## Data analysis\n",
        "\n",
        "### Subtask:\n",
        "Analyze the water quality data to identify potential correlations between features and perform more in-depth statistical analysis.\n"
      ],
      "cell_type": "markdown",
      "metadata": {
        "id": "2zQUAb5N6Mt_"
      }
    },
    {
      "source": [
        "**Reasoning**:\n",
        "Clean the 'ammonia' and 'is_safe' columns to be numeric, then calculate the correlation matrix and visualize it as a heatmap.\n",
        "\n"
      ],
      "cell_type": "markdown",
      "metadata": {
        "id": "O4uFMj536Na_"
      }
    },
    {
      "source": [
        "import pandas as pd\n",
        "import matplotlib.pyplot as plt\n",
        "import seaborn as sns\n",
        "\n",
        "# Clean 'ammonia' column\n",
        "df['ammonia'] = pd.to_numeric(df['ammonia'], errors='coerce')\n",
        "ammonia_median = df['ammonia'].median()\n",
        "df['ammonia'].fillna(ammonia_median, inplace=True)\n",
        "\n",
        "\n",
        "# Clean 'is_safe' column\n",
        "df['is_safe'].replace('#NUM!', df['is_safe'].mode()[0], inplace=True)\n",
        "df['is_safe'] = pd.to_numeric(df['is_safe'], errors='coerce')\n",
        "\n",
        "# Ensure both columns are numeric\n",
        "print(df[['ammonia', 'is_safe']].dtypes)\n",
        "\n",
        "# Calculate the correlation matrix\n",
        "correlation_matrix = df.corr(numeric_only=True)\n",
        "\n",
        "# Visualize the correlation matrix using a heatmap\n",
        "plt.figure(figsize=(12, 10))\n",
        "sns.heatmap(correlation_matrix, annot=True, cmap='coolwarm', fmt=\".2f\")\n",
        "plt.title('Correlation Matrix of Water Quality Features')\n",
        "plt.show()"
      ],
      "cell_type": "code",
      "metadata": {
        "id": "x1_-MoPL6Nqv"
      },
      "execution_count": null,
      "outputs": []
    },
    {
      "source": [
        "**Reasoning**:\n",
        "Fix the chained assignment warnings and then proceed with calculating correlations between each water quality parameter and the 'is_safe' target variable, followed by creating boxplots to visualize these relationships.\n",
        "\n"
      ],
      "cell_type": "markdown",
      "metadata": {
        "id": "wrOjVohk6QcE"
      }
    },
    {
      "source": [
        "import pandas as pd\n",
        "import matplotlib.pyplot as plt\n",
        "import seaborn as sns\n",
        "\n",
        "# Fix chained assignment for ammonia\n",
        "df['ammonia'] = pd.to_numeric(df['ammonia'], errors='coerce')\n",
        "ammonia_median = df['ammonia'].median()\n",
        "df['ammonia'] = df['ammonia'].fillna(ammonia_median)\n",
        "\n",
        "# Fix chained assignment for is_safe\n",
        "df['is_safe'] = df['is_safe'].replace('#NUM!', df['is_safe'].mode()[0])\n",
        "df['is_safe'] = pd.to_numeric(df['is_safe'], errors='coerce')\n",
        "\n",
        "\n",
        "# Calculate correlations with 'is_safe'\n",
        "correlations_with_is_safe = df.corr(numeric_only=True)['is_safe'].drop('is_safe')\n",
        "print(\"Correlations with 'is_safe':\\n\", correlations_with_is_safe)\n",
        "\n",
        "# Create boxplots\n",
        "plt.figure(figsize=(15, 10))\n",
        "for i, col in enumerate(df.select_dtypes(include=['number']).columns):\n",
        "    if col != 'is_safe':\n",
        "        plt.subplot(4, 5, i + 1)\n",
        "        sns.boxplot(x='is_safe', y=col, data=df)\n",
        "        plt.title(f'{col} vs. is_safe')\n",
        "plt.tight_layout()\n",
        "plt.show()"
      ],
      "cell_type": "code",
      "metadata": {
        "id": "wRbSMOTp6Qrx"
      },
      "execution_count": null,
      "outputs": []
    },
    {
      "source": [
        "**Reasoning**:\n",
        "Perform statistical tests (t-tests) to check for significant differences in means between 'is_safe' groups for each numerical feature.\n",
        "\n"
      ],
      "cell_type": "markdown",
      "metadata": {
        "id": "BHBb0U9c6S4b"
      }
    },
    {
      "source": [
        "import scipy.stats as stats\n",
        "\n",
        "# Perform t-tests for each numerical feature\n",
        "alpha = 0.05  # significance level\n",
        "\n",
        "results = {}\n",
        "for col in df.select_dtypes(include=['number']).columns:\n",
        "    if col != 'is_safe':\n",
        "        group0 = df[df['is_safe'] == 0][col]\n",
        "        group1 = df[df['is_safe'] == 1][col]\n",
        "        t_statistic, p_value = stats.ttest_ind(group0, group1)\n",
        "        results[col] = {'t_statistic': t_statistic, 'p_value': p_value}\n",
        "\n",
        "# Print results\n",
        "print(\"T-test results:\")\n",
        "for col, result in results.items():\n",
        "    print(f\"\\nFeature: {col}\")\n",
        "    print(f\"  T-statistic: {result['t_statistic']:.3f}\")\n",
        "    print(f\"  P-value: {result['p_value']:.3f}\")\n",
        "    if result['p_value'] < alpha:\n",
        "        print(f\"  Statistically significant difference at alpha = {alpha}\")\n"
      ],
      "cell_type": "code",
      "metadata": {
        "id": "Hf4XtTRR6TIJ"
      },
      "execution_count": null,
      "outputs": []
    },
    {
      "source": [
        "## Data visualization\n",
        "\n",
        "### Subtask:\n",
        "Visualize the distribution of numerical features and relationships between them.\n"
      ],
      "cell_type": "markdown",
      "metadata": {
        "id": "YitIipX96V_r"
      }
    },
    {
      "source": [
        "**Reasoning**:\n",
        "Visualize the distribution of numerical features and relationships between them using histograms and scatter plots.\n",
        "\n"
      ],
      "cell_type": "markdown",
      "metadata": {
        "id": "j1K65ChC6Wvb"
      }
    },
    {
      "source": [
        "import matplotlib.pyplot as plt\n",
        "import seaborn as sns\n",
        "\n",
        "# Histograms for numerical features\n",
        "plt.figure(figsize=(20, 15))\n",
        "for i, col in enumerate(df.select_dtypes(include=['number']).columns):\n",
        "    if col != 'is_safe':\n",
        "        plt.subplot(4, 5, i + 1)\n",
        "        sns.histplot(df[col], kde=True)\n",
        "        plt.title(f'Distribution of {col}')\n",
        "plt.tight_layout()\n",
        "plt.show()\n",
        "\n",
        "# Scatter plots for pairs of numerical features (focus on correlated features)\n",
        "# Example: Scatter plots for features highly correlated with 'is_safe'\n",
        "plt.figure(figsize=(10, 8))\n",
        "\n",
        "# Replace 'feature1', 'feature2', 'feature3' with your highly correlated features\n",
        "# Example: Using correlations from previous step\n",
        "highly_correlated_features = ['aluminium', 'ammonia', 'arsenic'] # Example, replace with your findings\n",
        "\n",
        "for i in range(len(highly_correlated_features)):\n",
        "    for j in range(i + 1, len(highly_correlated_features)):\n",
        "      plt.figure(figsize=(6, 6))\n",
        "      sns.scatterplot(x=highly_correlated_features[i], y=highly_correlated_features[j], hue='is_safe', data=df)\n",
        "      plt.title(f'Scatter plot of {highly_correlated_features[i]} vs {highly_correlated_features[j]}')\n",
        "      plt.show()\n",
        "\n",
        "\n",
        "# Visualization for 'is_safe' (class imbalance)\n",
        "plt.figure(figsize=(6, 4))\n",
        "sns.countplot(x='is_safe', data=df)\n",
        "plt.title('Distribution of is_safe')\n",
        "plt.show()"
      ],
      "cell_type": "code",
      "metadata": {
        "colab": {
          "base_uri": "https://localhost:8080/",
          "height": 228
        },
        "id": "9ugMM0zh6W_S",
        "outputId": "3b8f4c8f-7869-4e15-feab-aafd31305436"
      },
      "execution_count": null,
      "outputs": [
        {
          "output_type": "error",
          "ename": "NameError",
          "evalue": "name 'df' is not defined",
          "traceback": [
            "\u001b[0;31m---------------------------------------------------------------------------\u001b[0m",
            "\u001b[0;31mNameError\u001b[0m                                 Traceback (most recent call last)",
            "\u001b[0;32m<ipython-input-3-e5c70f7fcbe2>\u001b[0m in \u001b[0;36m<cell line: 0>\u001b[0;34m()\u001b[0m\n\u001b[1;32m      4\u001b[0m \u001b[0;31m# Histograms for numerical features\u001b[0m\u001b[0;34m\u001b[0m\u001b[0;34m\u001b[0m\u001b[0m\n\u001b[1;32m      5\u001b[0m \u001b[0mplt\u001b[0m\u001b[0;34m.\u001b[0m\u001b[0mfigure\u001b[0m\u001b[0;34m(\u001b[0m\u001b[0mfigsize\u001b[0m\u001b[0;34m=\u001b[0m\u001b[0;34m(\u001b[0m\u001b[0;36m20\u001b[0m\u001b[0;34m,\u001b[0m \u001b[0;36m15\u001b[0m\u001b[0;34m)\u001b[0m\u001b[0;34m)\u001b[0m\u001b[0;34m\u001b[0m\u001b[0;34m\u001b[0m\u001b[0m\n\u001b[0;32m----> 6\u001b[0;31m \u001b[0;32mfor\u001b[0m \u001b[0mi\u001b[0m\u001b[0;34m,\u001b[0m \u001b[0mcol\u001b[0m \u001b[0;32min\u001b[0m \u001b[0menumerate\u001b[0m\u001b[0;34m(\u001b[0m\u001b[0mdf\u001b[0m\u001b[0;34m.\u001b[0m\u001b[0mselect_dtypes\u001b[0m\u001b[0;34m(\u001b[0m\u001b[0minclude\u001b[0m\u001b[0;34m=\u001b[0m\u001b[0;34m[\u001b[0m\u001b[0;34m'number'\u001b[0m\u001b[0;34m]\u001b[0m\u001b[0;34m)\u001b[0m\u001b[0;34m.\u001b[0m\u001b[0mcolumns\u001b[0m\u001b[0;34m)\u001b[0m\u001b[0;34m:\u001b[0m\u001b[0;34m\u001b[0m\u001b[0;34m\u001b[0m\u001b[0m\n\u001b[0m\u001b[1;32m      7\u001b[0m     \u001b[0;32mif\u001b[0m \u001b[0mcol\u001b[0m \u001b[0;34m!=\u001b[0m \u001b[0;34m'is_safe'\u001b[0m\u001b[0;34m:\u001b[0m\u001b[0;34m\u001b[0m\u001b[0;34m\u001b[0m\u001b[0m\n\u001b[1;32m      8\u001b[0m         \u001b[0mplt\u001b[0m\u001b[0;34m.\u001b[0m\u001b[0msubplot\u001b[0m\u001b[0;34m(\u001b[0m\u001b[0;36m4\u001b[0m\u001b[0;34m,\u001b[0m \u001b[0;36m5\u001b[0m\u001b[0;34m,\u001b[0m \u001b[0mi\u001b[0m \u001b[0;34m+\u001b[0m \u001b[0;36m1\u001b[0m\u001b[0;34m)\u001b[0m\u001b[0;34m\u001b[0m\u001b[0;34m\u001b[0m\u001b[0m\n",
            "\u001b[0;31mNameError\u001b[0m: name 'df' is not defined"
          ]
        },
        {
          "output_type": "display_data",
          "data": {
            "text/plain": [
              "<Figure size 2000x1500 with 0 Axes>"
            ]
          },
          "metadata": {}
        }
      ]
    },
    {
      "cell_type": "markdown",
      "source": [],
      "metadata": {
        "id": "nE8Np9jen3fY"
      }
    },
    {
      "source": [
        "## Summary:\n",
        "\n",
        "### Q&A\n",
        "\n",
        "No questions were posed in the provided data analysis task.\n",
        "\n",
        "\n",
        "### Data Analysis Key Findings\n",
        "\n",
        "* **Data Cleaning:** The `ammonia` column had non-numeric values which were converted to numeric, missing values filled with the median, and the `is_safe` column had '#NUM!' values replaced by the mode.\n",
        "* **Class Imbalance:** The target variable 'is_safe' exhibits a class imbalance, with a majority of samples (7084 out of 7999) labeled as 0 and a smaller proportion labeled as 1 (912).  There were also three values of \"#NUM!\" which were replaced with the mode.\n",
        "* **Correlations:**  Correlations between features and the 'is_safe' target variable were calculated, but specific correlation values were not explicitly reported in the summary.\n",
        "* **Statistical Significance:**  T-tests were conducted to identify statistically significant differences between the 'is_safe' groups for each numerical feature.  Features with p-values below the significance level (0.05) indicated statistically significant differences. The specific features and their p-values are not listed in the summary.\n",
        "\n",
        "\n",
        "### Insights or Next Steps\n",
        "\n",
        "* **Feature Engineering:** Explore creating new features from existing ones or transforming existing features to improve model performance.  For example, consider interaction terms or polynomial features.\n",
        "* **Addressing Class Imbalance:** Implement techniques to address the class imbalance in the 'is_safe' variable, such as oversampling the minority class, undersampling the majority class, or using cost-sensitive learning algorithms.\n"
      ],
      "cell_type": "markdown",
      "metadata": {
        "id": "f2BJb_yq6c47"
      }
    }
  ]
}